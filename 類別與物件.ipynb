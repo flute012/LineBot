{
 "cells": [
  {
   "cell_type": "code",
   "execution_count": null,
   "metadata": {},
   "outputs": [],
   "source": [
    "#用物件來表達多欄位資料\n",
    "\n",
    "#1. 類別：創造物件的模板\n",
    "#2. 物件(object):可以有一個以上的欄位－(1)有一個以上的欄位以及方法 (2)物件必須透過類別(class)產生,先有類別→才有物件"
   ]
  },
  {
   "cell_type": "code",
   "execution_count": null,
   "metadata": {},
   "outputs": [],
   "source": [
    "#建議類別首字大寫\n",
    "#設計一個名為user的模板/類別\n",
    "class User:\n",
    "    #初始化函數__init__，是內建的，在類別產生物件時，自動被觸發。\n",
    "    def __init__(self):\n",
    "         #(self)一定要加，self是這個類別物件的代名詞\n",
    "         print(\"有一個物件被產生\")\n",
    "#以上只是在設計一個模板而已，沒做任何事\n",
    "\n",
    "a=User()  #此處呼叫，物件才會產生。\n",
    "#類別是為了產生物件、多欄位資料用的\n",
    "b=User() #→ b是用模具烤出來的另一個紅豆餅(物件)\n",
    "\n",
    "print(\"a\",a)\n",
    "print(\"b\",b.name) #沒有設計欄位名稱會出錯"
   ]
  },
  {
   "cell_type": "code",
   "execution_count": 12,
   "metadata": {},
   "outputs": [
    {
     "name": "stdout",
     "output_type": "stream",
     "text": [
      "有一個物件被產生\n",
      "有一個物件被產生\n",
      "a Johnson\n",
      "b Johnson\n"
     ]
    }
   ],
   "source": [
    "class User:\n",
    "    def __init__(self, name):\n",
    "         #(self)一定要加\n",
    "         print(\"有一個物件被產生\")\n",
    "         self.name=\"Johnson\"\n",
    "\n",
    "a=User(\"Andy\") #這邊就算改名，print出的內容也不會改\n",
    "b=User(\"Bod\") \n",
    "\n",
    "print(\"a\",a.name)\n",
    "print(\"b\",b.name)"
   ]
  },
  {
   "cell_type": "code",
   "execution_count": 17,
   "metadata": {},
   "outputs": [
    {
     "name": "stdout",
     "output_type": "stream",
     "text": [
      "有一個物件被產生\n",
      "有一個物件被產生\n",
      "a Andy\n",
      "b Bod 12\n"
     ]
    }
   ],
   "source": [
    "class User:\n",
    "    #初始化函數__init__，是內建的，在類別產生物件時，自動被觸發。\n",
    "    def __init__(self, name, age):\n",
    "         # (self)一定要加，會被系統自動帶入運算中\n",
    "         print(\"有一個物件被產生\")\n",
    "         self.name= name\n",
    "         # self 等於下方未來會創建的a、b、c...等等物件\n",
    "         self.age= age\n",
    "\n",
    "a=User(\"Andy\",\"\") \n",
    "b=User(\"Bod\",12) \n",
    "\n",
    "print(\"a\",a.name)\n",
    "print(\"b\",b.name, b.age)"
   ]
  },
  {
   "cell_type": "code",
   "execution_count": 26,
   "metadata": {},
   "outputs": [
    {
     "name": "stdout",
     "output_type": "stream",
     "text": [
      "有一個物件被產生\n",
      "有一個物件被產生\n",
      "我叫：Andy，等級：1\n",
      "我叫：<__main__.User object at 0x0000025C6A487690>\n",
      "我叫：Bod，等級：12\n",
      "我叫：<__main__.User object at 0x0000025C6A4A1E10>\n"
     ]
    }
   ],
   "source": [
    "class User:\n",
    "    #初始化函數__init__，是內建的，在類別產生物件時，自動被觸發。\n",
    "    def __init__(self, name, age, level):\n",
    "         # (self)一定要加，會被系統自動帶入運算中\n",
    "         print(\"有一個物件被產生\")\n",
    "         self.name= name\n",
    "         # self 等於下方未來會創建的a、b、c...等等物件\n",
    "         self.age= age\n",
    "         self.level= level\n",
    "\n",
    "    def intro(self): \n",
    "        print(f\"我叫：{self.name}，等級：{self.level}\")\n",
    "        print(f\"我叫：{self}\")      \n",
    "\n",
    "a=User(\"Andy\",\"\",\"1\") \n",
    "b=User(\"Bod\",12,\"12\") \n",
    "\n",
    "a.intro()\n",
    "b.intro()"
   ]
  },
  {
   "cell_type": "code",
   "execution_count": 28,
   "metadata": {},
   "outputs": [
    {
     "name": "stdout",
     "output_type": "stream",
     "text": [
      "有一個物件被產生\n",
      "我叫：Andy，等級：1\n",
      "我叫：<__main__.User object at 0x0000025C6A4938D0>\n",
      "有一個物件被產生\n",
      "我叫：Bod，等級：12\n",
      "我叫：<__main__.User object at 0x0000025C6A485790>\n"
     ]
    }
   ],
   "source": [
    "class User:\n",
    "    #初始化函數__init__，是內建的，在類別產生物件時，自動被觸發。\n",
    "    def __init__(self, name, age, level):\n",
    "         # (self)一定要加，會被系統自動帶入運算中\n",
    "         print(\"有一個物件被產生\")\n",
    "         self.name= name\n",
    "         # self 等於下方未來會創建的a、b、c...等等物件\n",
    "         self.age= age\n",
    "         self.level= level\n",
    "         self.intro() #加這段，就不用逐一呼叫intro\n",
    "\n",
    "    def intro(self): \n",
    "        print(f\"我叫：{self.name}，等級：{self.level}\")\n",
    "        print(f\"我叫：{self}\")      \n",
    "\n",
    "a=User(\"Andy\",\"\",\"1\") \n",
    "b=User(\"Bod\",12,\"12\") \n",
    "\n",
    "# a.intro()\n",
    "# b.intro()"
   ]
  }
 ],
 "metadata": {
  "kernelspec": {
   "display_name": "base",
   "language": "python",
   "name": "python3"
  },
  "language_info": {
   "codemirror_mode": {
    "name": "ipython",
    "version": 3
   },
   "file_extension": ".py",
   "mimetype": "text/x-python",
   "name": "python",
   "nbconvert_exporter": "python",
   "pygments_lexer": "ipython3",
   "version": "3.11.5"
  }
 },
 "nbformat": 4,
 "nbformat_minor": 2
}
